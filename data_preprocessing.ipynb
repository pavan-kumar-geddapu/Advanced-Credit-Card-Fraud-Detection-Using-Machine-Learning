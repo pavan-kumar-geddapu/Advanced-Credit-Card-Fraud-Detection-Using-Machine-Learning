{
 "cells": [
  {
   "cell_type": "code",
   "execution_count": 1,
   "id": "fc618e76",
   "metadata": {},
   "outputs": [],
   "source": [
    "import pandas as pd\n",
    "import os\n",
    "import missingno as msno\n",
    "import matplotlib.pyplot as plt\n",
    "import seaborn as sns\n",
    "from sklearn.preprocessing import OneHotEncoder\n",
    "\n",
    "import warnings\n",
    "warnings.filterwarnings('ignore')"
   ]
  },
  {
   "cell_type": "code",
   "execution_count": 2,
   "id": "9ed7d5b7",
   "metadata": {},
   "outputs": [],
   "source": [
    "current_directory = os.getcwd()\n",
    "data_df = stock_df = pd.read_csv(current_directory + '/input/credit_card_data.csv')"
   ]
  },
  {
   "cell_type": "code",
   "execution_count": 3,
   "id": "155bd42c",
   "metadata": {},
   "outputs": [
    {
     "data": {
      "text/html": [
       "<div>\n",
       "<style scoped>\n",
       "    .dataframe tbody tr th:only-of-type {\n",
       "        vertical-align: middle;\n",
       "    }\n",
       "\n",
       "    .dataframe tbody tr th {\n",
       "        vertical-align: top;\n",
       "    }\n",
       "\n",
       "    .dataframe thead th {\n",
       "        text-align: right;\n",
       "    }\n",
       "</style>\n",
       "<table border=\"1\" class=\"dataframe\">\n",
       "  <thead>\n",
       "    <tr style=\"text-align: right;\">\n",
       "      <th></th>\n",
       "      <th>step</th>\n",
       "      <th>type</th>\n",
       "      <th>amount</th>\n",
       "      <th>nameOrig</th>\n",
       "      <th>oldbalanceOrg</th>\n",
       "      <th>newbalanceOrig</th>\n",
       "      <th>nameDest</th>\n",
       "      <th>oldbalanceDest</th>\n",
       "      <th>newbalanceDest</th>\n",
       "      <th>isFraud</th>\n",
       "      <th>isFlaggedFraud</th>\n",
       "    </tr>\n",
       "  </thead>\n",
       "  <tbody>\n",
       "    <tr>\n",
       "      <th>0</th>\n",
       "      <td>1</td>\n",
       "      <td>PAYMENT</td>\n",
       "      <td>9839.64</td>\n",
       "      <td>C1231006815</td>\n",
       "      <td>170136.0</td>\n",
       "      <td>160296.36</td>\n",
       "      <td>M1979787155</td>\n",
       "      <td>0.0</td>\n",
       "      <td>0.0</td>\n",
       "      <td>0</td>\n",
       "      <td>0</td>\n",
       "    </tr>\n",
       "    <tr>\n",
       "      <th>1</th>\n",
       "      <td>1</td>\n",
       "      <td>PAYMENT</td>\n",
       "      <td>1864.28</td>\n",
       "      <td>C1666544295</td>\n",
       "      <td>21249.0</td>\n",
       "      <td>19384.72</td>\n",
       "      <td>M2044282225</td>\n",
       "      <td>0.0</td>\n",
       "      <td>0.0</td>\n",
       "      <td>0</td>\n",
       "      <td>0</td>\n",
       "    </tr>\n",
       "    <tr>\n",
       "      <th>2</th>\n",
       "      <td>1</td>\n",
       "      <td>TRANSFER</td>\n",
       "      <td>181.00</td>\n",
       "      <td>C1305486145</td>\n",
       "      <td>181.0</td>\n",
       "      <td>0.00</td>\n",
       "      <td>C553264065</td>\n",
       "      <td>0.0</td>\n",
       "      <td>0.0</td>\n",
       "      <td>1</td>\n",
       "      <td>0</td>\n",
       "    </tr>\n",
       "    <tr>\n",
       "      <th>3</th>\n",
       "      <td>1</td>\n",
       "      <td>CASH_OUT</td>\n",
       "      <td>181.00</td>\n",
       "      <td>C840083671</td>\n",
       "      <td>181.0</td>\n",
       "      <td>0.00</td>\n",
       "      <td>C38997010</td>\n",
       "      <td>21182.0</td>\n",
       "      <td>0.0</td>\n",
       "      <td>1</td>\n",
       "      <td>0</td>\n",
       "    </tr>\n",
       "    <tr>\n",
       "      <th>4</th>\n",
       "      <td>1</td>\n",
       "      <td>PAYMENT</td>\n",
       "      <td>11668.14</td>\n",
       "      <td>C2048537720</td>\n",
       "      <td>41554.0</td>\n",
       "      <td>29885.86</td>\n",
       "      <td>M1230701703</td>\n",
       "      <td>0.0</td>\n",
       "      <td>0.0</td>\n",
       "      <td>0</td>\n",
       "      <td>0</td>\n",
       "    </tr>\n",
       "  </tbody>\n",
       "</table>\n",
       "</div>"
      ],
      "text/plain": [
       "   step      type    amount     nameOrig  oldbalanceOrg  newbalanceOrig  \\\n",
       "0     1   PAYMENT   9839.64  C1231006815       170136.0       160296.36   \n",
       "1     1   PAYMENT   1864.28  C1666544295        21249.0        19384.72   \n",
       "2     1  TRANSFER    181.00  C1305486145          181.0            0.00   \n",
       "3     1  CASH_OUT    181.00   C840083671          181.0            0.00   \n",
       "4     1   PAYMENT  11668.14  C2048537720        41554.0        29885.86   \n",
       "\n",
       "      nameDest  oldbalanceDest  newbalanceDest  isFraud  isFlaggedFraud  \n",
       "0  M1979787155             0.0             0.0        0               0  \n",
       "1  M2044282225             0.0             0.0        0               0  \n",
       "2   C553264065             0.0             0.0        1               0  \n",
       "3    C38997010         21182.0             0.0        1               0  \n",
       "4  M1230701703             0.0             0.0        0               0  "
      ]
     },
     "execution_count": 3,
     "metadata": {},
     "output_type": "execute_result"
    }
   ],
   "source": [
    "data_df.head()"
   ]
  },
  {
   "cell_type": "code",
   "execution_count": 4,
   "id": "a1cfe521",
   "metadata": {},
   "outputs": [
    {
     "name": "stdout",
     "output_type": "stream",
     "text": [
      "<class 'pandas.core.frame.DataFrame'>\n",
      "RangeIndex: 6362620 entries, 0 to 6362619\n",
      "Data columns (total 11 columns):\n",
      " #   Column          Dtype  \n",
      "---  ------          -----  \n",
      " 0   step            int64  \n",
      " 1   type            object \n",
      " 2   amount          float64\n",
      " 3   nameOrig        object \n",
      " 4   oldbalanceOrg   float64\n",
      " 5   newbalanceOrig  float64\n",
      " 6   nameDest        object \n",
      " 7   oldbalanceDest  float64\n",
      " 8   newbalanceDest  float64\n",
      " 9   isFraud         int64  \n",
      " 10  isFlaggedFraud  int64  \n",
      "dtypes: float64(5), int64(3), object(3)\n",
      "memory usage: 534.0+ MB\n"
     ]
    }
   ],
   "source": [
    "data_df.info()"
   ]
  },
  {
   "cell_type": "code",
   "execution_count": 5,
   "id": "b93d656d",
   "metadata": {},
   "outputs": [
    {
     "data": {
      "image/png": "[encoded data removed]",
      "text/plain": [
       "<Figure size 1500x500 with 3 Axes>"
      ]
     },
     "metadata": {},
     "output_type": "display_data"
    }
   ],
   "source": [
    "# Check for any missing values in the data.\n",
    "\n",
    "plt.figure(figsize = (15, 8))\n",
    "msno.bar(data_df, figsize = (15,5), sort = 'ascending', color = \"green\")\n",
    "plt.show()"
   ]
  },
  {
   "cell_type": "code",
   "execution_count": 6,
   "id": "03c56197",
   "metadata": {},
   "outputs": [
    {
     "data": {
      "text/plain": [
       "0"
      ]
     },
     "execution_count": 6,
     "metadata": {},
     "output_type": "execute_result"
    }
   ],
   "source": [
    "# Check for any duplicates in the data.\n",
    "\n",
    "data_df.duplicated().sum()"
   ]
  },
  {
   "cell_type": "code",
   "execution_count": 7,
   "id": "506abdea",
   "metadata": {},
   "outputs": [
    {
     "data": {
      "text/plain": [
       "Index(['step', 'type', 'amount', 'nameOrig', 'oldbalanceOrg', 'newbalanceOrig',\n",
       "       'nameDest', 'oldbalanceDest', 'newbalanceDest', 'isFraud',\n",
       "       'isFlaggedFraud'],\n",
       "      dtype='object')"
      ]
     },
     "execution_count": 7,
     "metadata": {},
     "output_type": "execute_result"
    }
   ],
   "source": [
    "data_df.columns"
   ]
  },
  {
   "cell_type": "code",
   "execution_count": 8,
   "id": "b6d8b906",
   "metadata": {},
   "outputs": [],
   "source": [
    "# Drop unwanted columns.\n",
    "\n",
    "drop_columns = ['step', 'isFlaggedFraud']\n",
    "data_df = data_df.drop(columns = drop_columns)"
   ]
  },
  {
   "cell_type": "code",
   "execution_count": 9,
   "id": "86008c1a",
   "metadata": {},
   "outputs": [],
   "source": [
    "# Rename column names for better understanding.\n",
    "\n",
    "data_df = data_df.rename(columns = {\n",
    "    'type': 'payment_type',\n",
    "    'nameOrig': 'origin',\n",
    "    'oldbalanceOrg': 'sender_old_balance',\n",
    "    'newbalanceOrig': 'sender_new_balance',\n",
    "    'nameDest': 'destination',\n",
    "    'oldbalanceDest': 'receiver_old_balance',\n",
    "    'newbalanceDest': 'receiver_new_balance',\n",
    "    'isFraud': 'is_fraud'\n",
    "})"
   ]
  },
  {
   "cell_type": "code",
   "execution_count": 18,
   "id": "38484bad",
   "metadata": {},
   "outputs": [
    {
     "data": {
      "image/png": "[encoded data removed]",
      "text/plain": [
       "<Figure size 1500x800 with 1 Axes>"
      ]
     },
     "metadata": {},
     "output_type": "display_data"
    }
   ],
   "source": [
    "# Visuvalize fraud and non fraud transaction for different payment types.\n",
    "\n",
    "plt.figure(figsize = (15, 8))\n",
    "ax=sns.countplot(data = data_df, x = \"payment_type\", hue=\"is_fraud\", palette = 'Set1')\n",
    "plt.title('Fraud and Non Fraud Transactions')\n",
    "ax.set_yscale(\"log\")\n",
    "for p in ax.patches:\n",
    "        ax.annotate('{:.1f}'.format(p.get_height()), (p.get_x()+0.01, p.get_height() * 1.05), fontsize=12)"
   ]
  },
  {
   "cell_type": "code",
   "execution_count": 11,
   "id": "14e4e910",
   "metadata": {},
   "outputs": [
    {
     "data": {
      "text/plain": [
       "C1305486145    1\n",
       "C202278158     1\n",
       "C12585107      1\n",
       "C946427395     1\n",
       "C1069177491    1\n",
       "              ..\n",
       "C2090764492    1\n",
       "C1794935564    1\n",
       "C318078280     1\n",
       "C939293281     1\n",
       "C1685995037    1\n",
       "Name: origin, Length: 4097, dtype: int64"
      ]
     },
     "execution_count": 11,
     "metadata": {},
     "output_type": "execute_result"
    }
   ],
   "source": [
    "# Check account types of fraud transaction with payment type transfer.\n",
    "\n",
    "transfer_data = data_df[((data_df['payment_type']=='TRANSFER') & data_df['is_fraud']==1)]\n",
    "transfer_data['origin'].value_counts()"
   ]
  },
  {
   "cell_type": "code",
   "execution_count": 12,
   "id": "e8ebae71",
   "metadata": {
    "scrolled": true
   },
   "outputs": [
    {
     "data": {
      "text/plain": [
       "C840083671     1\n",
       "C1055498407    1\n",
       "C1886113938    1\n",
       "C520336445     1\n",
       "C463684846     1\n",
       "              ..\n",
       "C1641368956    1\n",
       "C2120940829    1\n",
       "C992121519     1\n",
       "C1663597987    1\n",
       "C1280323807    1\n",
       "Name: origin, Length: 4116, dtype: int64"
      ]
     },
     "execution_count": 12,
     "metadata": {},
     "output_type": "execute_result"
    }
   ],
   "source": [
    "# Check account types of fraud transaction with payment type transfer.\n",
    "\n",
    "transfer_data = data_df[((data_df['payment_type']=='CASH_OUT') & data_df['is_fraud']==1)]\n",
    "transfer_data['origin'].value_counts()"
   ]
  },
  {
   "cell_type": "code",
   "execution_count": 13,
   "id": "af56af4a",
   "metadata": {},
   "outputs": [
    {
     "data": {
      "text/plain": [
       "False"
      ]
     },
     "execution_count": 13,
     "metadata": {},
     "output_type": "execute_result"
    }
   ],
   "source": [
    "# Check if transfer receiving account used for cashout.\n",
    "\n",
    "trans_transfer = data_df[data_df['payment_type'] == 'TRANSER']\n",
    "trans_cashout = data_df[data_df['payment_type'] == 'CASH_OUT']\n",
    "trans_transfer.destination.isin(trans_cashout.origin).any()"
   ]
  },
  {
   "cell_type": "code",
   "execution_count": 14,
   "id": "45fd9bc9",
   "metadata": {},
   "outputs": [],
   "source": [
    "# A total of 4,097 fraudulent transactions occurred in the \"TRANSFER\" transaction type, and 4,116 fraudulent transactions occurred in the \"CASH_OUT\" transaction type.\n",
    "\n",
    "# Most fraudulent transactions involved transfers between customers.\n",
    "\n",
    "# In cases of fraud, the sender and receiver accounts were not the same for the transactions.\n",
    "\n",
    "# Fraudulent transactions typically involved different accounts for sending and receiving funds."
   ]
  },
  {
   "cell_type": "code",
   "execution_count": 15,
   "id": "2cc883a9",
   "metadata": {},
   "outputs": [],
   "source": [
    "# Add another feature to check customer, merchant connection in transaction.\n",
    "\n",
    "data_df['origin_destination_type'] = data_df['origin'].str[0] + data_df['destination'].str[0]"
   ]
  },
  {
   "cell_type": "code",
   "execution_count": 16,
   "id": "0b238079",
   "metadata": {},
   "outputs": [],
   "source": [
    "# Drop origin and destination columns as in fraud transactions they are used only once.\n",
    "\n",
    "data_df.drop(columns = ['origin','destination'], axis = 'columns', inplace = True)"
   ]
  },
  {
   "cell_type": "code",
   "execution_count": 17,
   "id": "bd1e62a9",
   "metadata": {},
   "outputs": [
    {
     "data": {
      "text/html": [
       "<div>\n",
       "<style scoped>\n",
       "    .dataframe tbody tr th:only-of-type {\n",
       "        vertical-align: middle;\n",
       "    }\n",
       "\n",
       "    .dataframe tbody tr th {\n",
       "        vertical-align: top;\n",
       "    }\n",
       "\n",
       "    .dataframe thead th {\n",
       "        text-align: right;\n",
       "    }\n",
       "</style>\n",
       "<table border=\"1\" class=\"dataframe\">\n",
       "  <thead>\n",
       "    <tr style=\"text-align: right;\">\n",
       "      <th></th>\n",
       "      <th>payment_type</th>\n",
       "      <th>amount</th>\n",
       "      <th>sender_old_balance</th>\n",
       "      <th>sender_new_balance</th>\n",
       "      <th>receiver_old_balance</th>\n",
       "      <th>receiver_new_balance</th>\n",
       "      <th>is_fraud</th>\n",
       "      <th>origin_destination_type</th>\n",
       "    </tr>\n",
       "  </thead>\n",
       "  <tbody>\n",
       "    <tr>\n",
       "      <th>0</th>\n",
       "      <td>PAYMENT</td>\n",
       "      <td>9839.64</td>\n",
       "      <td>170136.0</td>\n",
       "      <td>160296.36</td>\n",
       "      <td>0.0</td>\n",
       "      <td>0.0</td>\n",
       "      <td>0</td>\n",
       "      <td>CM</td>\n",
       "    </tr>\n",
       "    <tr>\n",
       "      <th>1</th>\n",
       "      <td>PAYMENT</td>\n",
       "      <td>1864.28</td>\n",
       "      <td>21249.0</td>\n",
       "      <td>19384.72</td>\n",
       "      <td>0.0</td>\n",
       "      <td>0.0</td>\n",
       "      <td>0</td>\n",
       "      <td>CM</td>\n",
       "    </tr>\n",
       "    <tr>\n",
       "      <th>2</th>\n",
       "      <td>TRANSFER</td>\n",
       "      <td>181.00</td>\n",
       "      <td>181.0</td>\n",
       "      <td>0.00</td>\n",
       "      <td>0.0</td>\n",
       "      <td>0.0</td>\n",
       "      <td>1</td>\n",
       "      <td>CC</td>\n",
       "    </tr>\n",
       "    <tr>\n",
       "      <th>3</th>\n",
       "      <td>CASH_OUT</td>\n",
       "      <td>181.00</td>\n",
       "      <td>181.0</td>\n",
       "      <td>0.00</td>\n",
       "      <td>21182.0</td>\n",
       "      <td>0.0</td>\n",
       "      <td>1</td>\n",
       "      <td>CC</td>\n",
       "    </tr>\n",
       "    <tr>\n",
       "      <th>4</th>\n",
       "      <td>PAYMENT</td>\n",
       "      <td>11668.14</td>\n",
       "      <td>41554.0</td>\n",
       "      <td>29885.86</td>\n",
       "      <td>0.0</td>\n",
       "      <td>0.0</td>\n",
       "      <td>0</td>\n",
       "      <td>CM</td>\n",
       "    </tr>\n",
       "  </tbody>\n",
       "</table>\n",
       "</div>"
      ],
      "text/plain": [
       "  payment_type    amount  sender_old_balance  sender_new_balance  \\\n",
       "0      PAYMENT   9839.64            170136.0           160296.36   \n",
       "1      PAYMENT   1864.28             21249.0            19384.72   \n",
       "2     TRANSFER    181.00               181.0                0.00   \n",
       "3     CASH_OUT    181.00               181.0                0.00   \n",
       "4      PAYMENT  11668.14             41554.0            29885.86   \n",
       "\n",
       "   receiver_old_balance  receiver_new_balance  is_fraud  \\\n",
       "0                   0.0                   0.0         0   \n",
       "1                   0.0                   0.0         0   \n",
       "2                   0.0                   0.0         1   \n",
       "3               21182.0                   0.0         1   \n",
       "4                   0.0                   0.0         0   \n",
       "\n",
       "  origin_destination_type  \n",
       "0                      CM  \n",
       "1                      CM  \n",
       "2                      CC  \n",
       "3                      CC  \n",
       "4                      CM  "
      ]
     },
     "execution_count": 17,
     "metadata": {},
     "output_type": "execute_result"
    }
   ],
   "source": [
    "data_df.head()"
   ]
  },
  {
   "cell_type": "code",
   "execution_count": 18,
   "id": "d98a6334",
   "metadata": {},
   "outputs": [
    {
     "name": "stdout",
     "output_type": "stream",
     "text": [
      "Fraud transaction: \n",
      "CC    8213\n",
      "Name: origin_destination_type, dtype: int64\n",
      "Non fraud transaction: \n",
      "CC    4202912\n",
      "CM    2151495\n",
      "Name: origin_destination_type, dtype: int64\n"
     ]
    }
   ],
   "source": [
    "# Check how customer, merchant connection impacts fraud.\n",
    "\n",
    "fraud_trans = data_df[data_df['is_fraud'] == 1]\n",
    "valid_trans = data_df[data_df['is_fraud'] == 0]\n",
    "\n",
    "print(\"Fraud transaction: \")\n",
    "print(fraud_trans['origin_destination_type'].value_counts())\n",
    "print(\"Non fraud transaction: \")\n",
    "print(valid_trans['origin_destination_type'].value_counts())"
   ]
  },
  {
   "cell_type": "code",
   "execution_count": 19,
   "id": "a5a398dd",
   "metadata": {},
   "outputs": [],
   "source": [
    "# There were a total of 8,213 fraudulent transactions, all of which were made between customers.\n",
    "\n",
    "# A total of 4,202,912 valid transactions occurred between customers.\n",
    "\n",
    "# Additionally, 2,151,495 valid transactions were made from customers to merchants."
   ]
  },
  {
   "cell_type": "code",
   "execution_count": 20,
   "id": "8bc925a0",
   "metadata": {},
   "outputs": [
    {
     "data": {
      "text/html": [
       "<div>\n",
       "<style scoped>\n",
       "    .dataframe tbody tr th:only-of-type {\n",
       "        vertical-align: middle;\n",
       "    }\n",
       "\n",
       "    .dataframe tbody tr th {\n",
       "        vertical-align: top;\n",
       "    }\n",
       "\n",
       "    .dataframe thead th {\n",
       "        text-align: right;\n",
       "    }\n",
       "</style>\n",
       "<table border=\"1\" class=\"dataframe\">\n",
       "  <thead>\n",
       "    <tr style=\"text-align: right;\">\n",
       "      <th></th>\n",
       "      <th>amount</th>\n",
       "      <th>sender_old_balance</th>\n",
       "      <th>sender_new_balance</th>\n",
       "      <th>receiver_old_balance</th>\n",
       "      <th>receiver_new_balance</th>\n",
       "      <th>is_fraud</th>\n",
       "      <th>payment_type_CASH_IN</th>\n",
       "      <th>payment_type_CASH_OUT</th>\n",
       "      <th>payment_type_DEBIT</th>\n",
       "      <th>payment_type_PAYMENT</th>\n",
       "      <th>payment_type_TRANSFER</th>\n",
       "      <th>origin_destination_type_CC</th>\n",
       "      <th>origin_destination_type_CM</th>\n",
       "    </tr>\n",
       "  </thead>\n",
       "  <tbody>\n",
       "    <tr>\n",
       "      <th>0</th>\n",
       "      <td>9839.64</td>\n",
       "      <td>170136.0</td>\n",
       "      <td>160296.36</td>\n",
       "      <td>0.0</td>\n",
       "      <td>0.0</td>\n",
       "      <td>0</td>\n",
       "      <td>0.0</td>\n",
       "      <td>0.0</td>\n",
       "      <td>0.0</td>\n",
       "      <td>1.0</td>\n",
       "      <td>0.0</td>\n",
       "      <td>0.0</td>\n",
       "      <td>1.0</td>\n",
       "    </tr>\n",
       "    <tr>\n",
       "      <th>1</th>\n",
       "      <td>1864.28</td>\n",
       "      <td>21249.0</td>\n",
       "      <td>19384.72</td>\n",
       "      <td>0.0</td>\n",
       "      <td>0.0</td>\n",
       "      <td>0</td>\n",
       "      <td>0.0</td>\n",
       "      <td>0.0</td>\n",
       "      <td>0.0</td>\n",
       "      <td>1.0</td>\n",
       "      <td>0.0</td>\n",
       "      <td>0.0</td>\n",
       "      <td>1.0</td>\n",
       "    </tr>\n",
       "    <tr>\n",
       "      <th>2</th>\n",
       "      <td>181.00</td>\n",
       "      <td>181.0</td>\n",
       "      <td>0.00</td>\n",
       "      <td>0.0</td>\n",
       "      <td>0.0</td>\n",
       "      <td>1</td>\n",
       "      <td>0.0</td>\n",
       "      <td>0.0</td>\n",
       "      <td>0.0</td>\n",
       "      <td>0.0</td>\n",
       "      <td>1.0</td>\n",
       "      <td>1.0</td>\n",
       "      <td>0.0</td>\n",
       "    </tr>\n",
       "    <tr>\n",
       "      <th>3</th>\n",
       "      <td>181.00</td>\n",
       "      <td>181.0</td>\n",
       "      <td>0.00</td>\n",
       "      <td>21182.0</td>\n",
       "      <td>0.0</td>\n",
       "      <td>1</td>\n",
       "      <td>0.0</td>\n",
       "      <td>1.0</td>\n",
       "      <td>0.0</td>\n",
       "      <td>0.0</td>\n",
       "      <td>0.0</td>\n",
       "      <td>1.0</td>\n",
       "      <td>0.0</td>\n",
       "    </tr>\n",
       "    <tr>\n",
       "      <th>4</th>\n",
       "      <td>11668.14</td>\n",
       "      <td>41554.0</td>\n",
       "      <td>29885.86</td>\n",
       "      <td>0.0</td>\n",
       "      <td>0.0</td>\n",
       "      <td>0</td>\n",
       "      <td>0.0</td>\n",
       "      <td>0.0</td>\n",
       "      <td>0.0</td>\n",
       "      <td>1.0</td>\n",
       "      <td>0.0</td>\n",
       "      <td>0.0</td>\n",
       "      <td>1.0</td>\n",
       "    </tr>\n",
       "  </tbody>\n",
       "</table>\n",
       "</div>"
      ],
      "text/plain": [
       "     amount  sender_old_balance  sender_new_balance  receiver_old_balance  \\\n",
       "0   9839.64            170136.0           160296.36                   0.0   \n",
       "1   1864.28             21249.0            19384.72                   0.0   \n",
       "2    181.00               181.0                0.00                   0.0   \n",
       "3    181.00               181.0                0.00               21182.0   \n",
       "4  11668.14             41554.0            29885.86                   0.0   \n",
       "\n",
       "   receiver_new_balance  is_fraud  payment_type_CASH_IN  \\\n",
       "0                   0.0         0                   0.0   \n",
       "1                   0.0         0                   0.0   \n",
       "2                   0.0         1                   0.0   \n",
       "3                   0.0         1                   0.0   \n",
       "4                   0.0         0                   0.0   \n",
       "\n",
       "   payment_type_CASH_OUT  payment_type_DEBIT  payment_type_PAYMENT  \\\n",
       "0                    0.0                 0.0                   1.0   \n",
       "1                    0.0                 0.0                   1.0   \n",
       "2                    0.0                 0.0                   0.0   \n",
       "3                    1.0                 0.0                   0.0   \n",
       "4                    0.0                 0.0                   1.0   \n",
       "\n",
       "   payment_type_TRANSFER  origin_destination_type_CC  \\\n",
       "0                    0.0                         0.0   \n",
       "1                    0.0                         0.0   \n",
       "2                    1.0                         1.0   \n",
       "3                    0.0                         1.0   \n",
       "4                    0.0                         0.0   \n",
       "\n",
       "   origin_destination_type_CM  \n",
       "0                         1.0  \n",
       "1                         1.0  \n",
       "2                         0.0  \n",
       "3                         0.0  \n",
       "4                         1.0  "
      ]
     },
     "execution_count": 20,
     "metadata": {},
     "output_type": "execute_result"
    }
   ],
   "source": [
    "# Convert categorical features using OneHotEncoder.\n",
    "\n",
    "categorical_columns = ['payment_type', 'origin_destination_type']\n",
    "encoder = OneHotEncoder()\n",
    "data_df_encoded = encoder.fit_transform(data_df[categorical_columns])\n",
    "feature_names = encoder.get_feature_names_out(input_features=categorical_columns)\n",
    "data_df = pd.concat([data_df.drop(categorical_columns, axis=1), pd.DataFrame(data_df_encoded.toarray(), columns=feature_names)], axis=1)\n",
    "data_df.head()"
   ]
  },
  {
   "cell_type": "code",
   "execution_count": 21,
   "id": "1a0619d6",
   "metadata": {},
   "outputs": [],
   "source": [
    "processed_file_path = current_directory + '/input/preprocessed_data.csv'\n",
    "data_df.to_csv(processed_file_path, index=False)"
   ]
  }
 ],
 "metadata": {
  "kernelspec": {
   "display_name": "Python 3 (ipykernel)",
   "language": "python",
   "name": "python3"
  },
  "language_info": {
   "codemirror_mode": {
    "name": "ipython",
    "version": 3
   },
   "file_extension": ".py",
   "mimetype": "text/x-python",
   "name": "python",
   "nbconvert_exporter": "python",
   "pygments_lexer": "ipython3",
   "version": "3.9.13"
  }
 },
 "nbformat": 4,
 "nbformat_minor": 5
}
